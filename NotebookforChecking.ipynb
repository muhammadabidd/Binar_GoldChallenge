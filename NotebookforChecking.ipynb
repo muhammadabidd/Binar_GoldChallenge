{
 "cells": [
  {
   "cell_type": "code",
   "execution_count": 1,
   "metadata": {},
   "outputs": [],
   "source": [
    "import sqlite3\n",
    "\n",
    "conn = sqlite3.connect('text_processing.db')\n",
    "cursor = conn.execute(\"SELECT * FROM data;\")\n",
    "\n",
    "for row in cursor:\n",
    "  print(row)\n",
    "\n",
    "\n"
   ]
  },
  {
   "cell_type": "code",
   "execution_count": 2,
   "metadata": {},
   "outputs": [
    {
     "name": "stdout",
     "output_type": "stream",
     "text": [
      "('Ayam123', 'Ayam')\n"
     ]
    }
   ],
   "source": [
    "conn.execute(\"INSERT INTO data(text, text_clean) VALUES ('Ayam123' , 'Ayam')\")\n",
    "\n",
    "cursor = conn.execute(\"SELECT * FROM data;\")\n",
    "for row in cursor:\n",
    "  print(row)"
   ]
  },
  {
   "cell_type": "code",
   "execution_count": 3,
   "metadata": {},
   "outputs": [
    {
     "name": "stdout",
     "output_type": "stream",
     "text": [
      "('Ayam123', 'Ayam')\n",
      "('Ayam1234', 'Ayam')\n"
     ]
    }
   ],
   "source": [
    "conn.execute(\"INSERT INTO data(text, text_clean) VALUES ('Ayam1234' , 'Ayam')\")\n",
    "\n",
    "cursor = conn.execute(\"SELECT * FROM data;\")\n",
    "for row in cursor:\n",
    "  print(row)"
   ]
  }
 ],
 "metadata": {
  "kernelspec": {
   "display_name": "Python 3.10.6 ('ChallengeGold': venv)",
   "language": "python",
   "name": "python3"
  },
  "language_info": {
   "codemirror_mode": {
    "name": "ipython",
    "version": 3
   },
   "file_extension": ".py",
   "mimetype": "text/x-python",
   "name": "python",
   "nbconvert_exporter": "python",
   "pygments_lexer": "ipython3",
   "version": "3.10.6"
  },
  "orig_nbformat": 4,
  "vscode": {
   "interpreter": {
    "hash": "1e3e45181a9f6fbb41b0879ba96c8c1c03f26a158f6fbfe007bdb870d7eac9b7"
   }
  }
 },
 "nbformat": 4,
 "nbformat_minor": 2
}
