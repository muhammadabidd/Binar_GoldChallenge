{
 "cells": [
  {
   "cell_type": "code",
   "execution_count": 3,
   "metadata": {},
   "outputs": [],
   "source": [
    "import sqlite3\n",
    "\n",
    "\n",
    "#Membersihkan database\n",
    "conn = sqlite3.connect('text_processing.db')\n",
    "cursor = conn.execute(\"DELETE FROM data;\")\n",
    "cursor = conn.execute(\"SELECT * FROM data;\")\n",
    "\n",
    "for row in cursor:\n",
    "  print(row)\n",
    "\n",
    "\n"
   ]
  },
  {
   "cell_type": "code",
   "execution_count": 9,
   "metadata": {},
   "outputs": [
    {
     "name": "stdout",
     "output_type": "stream",
     "text": [
      "('Ayam123', 'Ayam')\n",
      "('Ayam1234', 'Ayam')\n",
      "('Ayam123', 'Ayam')\n"
     ]
    }
   ],
   "source": [
    "conn.execute(\"INSERT INTO data(text, text_clean) VALUES ('Ayam123' , 'Ayam')\")\n",
    "\n",
    "cursor = conn.execute(\"SELECT * FROM data;\")\n",
    "for row in cursor:\n",
    "  print(row)"
   ]
  },
  {
   "cell_type": "code",
   "execution_count": 5,
   "metadata": {},
   "outputs": [
    {
     "name": "stdout",
     "output_type": "stream",
     "text": [
      "('Ayam123', 'Ayam')\n",
      "('Ayam1234', 'Ayam')\n"
     ]
    }
   ],
   "source": [
    "conn.execute(\"INSERT INTO data(text, text_clean) VALUES ('Ayam1234' , 'Ayam')\")\n",
    "\n",
    "\n",
    "cursor = conn.execute(\"SELECT * FROM data;\")\n",
    "for row in cursor:\n",
    "  print(row)"
   ]
  },
  {
   "cell_type": "code",
   "execution_count": 31,
   "metadata": {},
   "outputs": [
    {
     "name": "stdout",
     "output_type": "stream",
     "text": [
      "('Ayam123', 'Ayam')\n",
      "('Ayam1234', 'Ayam')\n",
      "('Ayam123', 'Ayam')\n",
      "('asdasdkj(*(*(**', 'asdasdkj')\n",
      "('kajsdhakjsdh*&(*&(*&', 'kajsdhakjsdh')\n",
      "('nahini bedlagi ni!@!#@#!@', 'nahinibedlagini')\n",
      "('yangkedua beda (*(*(*', 'yangkeduabeda')\n",
      "('asdasdkj(*(*(**', 'asdasdkj')\n",
      "('kajsdhakjsdh*&(*&(*&', 'kajsdhakjsdh')\n",
      "('nahini bedlagi ni!@!#@#!@', 'nahinibedlagini')\n",
      "('yangkedua beda (*(*(*', 'yangkeduabeda')\n"
     ]
    }
   ],
   "source": [
    "#Cek database\n",
    "\n",
    "cursor = conn.execute(\"SELECT * FROM data;\")\n",
    "for row in cursor:\n",
    "  print(row)\n",
    "\n",
    "conn.commit()"
   ]
  },
  {
   "cell_type": "code",
   "execution_count": 26,
   "metadata": {},
   "outputs": [
    {
     "name": "stdout",
     "output_type": "stream",
     "text": [
      "0    - disaat semua cowok berusaha melacak perhatia...\n",
      "1    RT USER: USER siapa yang telat ngasih tau elu?...\n",
      "2    41. Kadang aku berfikir, kenapa aku tetap perc...\n",
      "3    USER USER AKU ITU AKU\\n\\nKU TAU MATAMU SIPIT T...\n",
      "4    USER USER Kaum cebong kapir udah keliatan dong...\n",
      "Name: Tweet, dtype: object\n"
     ]
    }
   ],
   "source": [
    "##Adding Function on \"Upload_csv\" Route\n",
    "\n",
    "import pandas as pd\n",
    "import re\n",
    "\n",
    "data = pd.read_csv('Input/data_2.csv', encoding='latin-1')\n",
    "first_column = data.iloc[:, 0]\n",
    "print(first_column.head())"
   ]
  },
  {
   "cell_type": "code",
   "execution_count": null,
   "metadata": {},
   "outputs": [],
   "source": [
    "for teks in first_column:\n",
    "    file_clean = re.sub(r'[^a-zA-Z0-9]','',teks)\n",
    "    conn.execute(\"INSERT INTO data(text, text_clean) VALUES ('\"+ teks +\"','\"+ file_clean +\"')\")\n",
    "    \n",
    "    print(file_clean)"
   ]
  },
  {
   "cell_type": "code",
   "execution_count": null,
   "metadata": {},
   "outputs": [],
   "source": [
    "for teks in first_column:\n",
    "    file_clean = re.sub(r'[^a-zA-Z0-9]','',teks)\n",
    "    conn.execute(\"INSERT INTO data(text, text_clean) VALUES ('\"+ teks +\"','\"+ file_clean +\"')\")\n",
    "    \n",
    "    print(file_clean)"
   ]
  },
  {
   "cell_type": "code",
   "execution_count": 1,
   "metadata": {},
   "outputs": [
    {
     "ename": "NameError",
     "evalue": "name 'sqlite3' is not defined",
     "output_type": "error",
     "traceback": [
      "\u001b[1;31m---------------------------------------------------------------------------\u001b[0m",
      "\u001b[1;31mNameError\u001b[0m                                 Traceback (most recent call last)",
      "Cell \u001b[1;32mIn [1], line 1\u001b[0m\n\u001b[1;32m----> 1\u001b[0m conn \u001b[38;5;241m=\u001b[39m sqlite3\u001b[38;5;241m.\u001b[39mconnect(\u001b[38;5;124m'\u001b[39m\u001b[38;5;124mtext_processing.db\u001b[39m\u001b[38;5;124m'\u001b[39m)\n\u001b[0;32m      2\u001b[0m cursor \u001b[38;5;241m=\u001b[39m conn\u001b[38;5;241m.\u001b[39mexecute(\u001b[38;5;124m\"\u001b[39m\u001b[38;5;124mSELECT * FROM data;\u001b[39m\u001b[38;5;124m\"\u001b[39m)\n\u001b[0;32m      3\u001b[0m \u001b[38;5;28;01mfor\u001b[39;00m row \u001b[38;5;129;01min\u001b[39;00m cursor:\n",
      "\u001b[1;31mNameError\u001b[0m: name 'sqlite3' is not defined"
     ]
    }
   ],
   "source": [
    "conn = sqlite3.connect('text_processing.db')\n",
    "cursor = conn.execute(\"SELECT * FROM data;\")\n",
    "for row in cursor:\n",
    "  print(row)"
   ]
  },
  {
   "cell_type": "code",
   "execution_count": 37,
   "metadata": {},
   "outputs": [
    {
     "name": "stdout",
     "output_type": "stream",
     "text": [
      "'Input/coba_coba.csv'\n"
     ]
    }
   ],
   "source": [
    "filename = 'coba_coba.csv'\n",
    "filepath = 'Input/' + str(filename)\n",
    "print(\"'\" + filepath + \"'\")"
   ]
  },
  {
   "cell_type": "code",
   "execution_count": 36,
   "metadata": {},
   "outputs": [
    {
     "name": "stdout",
     "output_type": "stream",
     "text": [
      "asdasdkj\n",
      "kajsdhakjsdh\n"
     ]
    }
   ],
   "source": [
    "data = pd.read_csv('Input\\Coba_Coba.csv')\n",
    "        \n",
    "first_column = data.iloc[:, 0]\n",
    "\n",
    "for teks in first_column:\n",
    "                file_clean = re.sub(r'[^a-zA-Z0-9]','',teks)\n",
    "                conn.execute(\"INSERT INTO data(text, text_clean) VALUES ('\"+ teks +\"','\"+ file_clean +\"')\")\n",
    "        \n",
    "                print(file_clean)\n",
    "\n",
    "conn.commit()\n",
    "conn.close()"
   ]
  },
  {
   "cell_type": "code",
   "execution_count": null,
   "metadata": {},
   "outputs": [],
   "source": []
  }
 ],
 "metadata": {
  "kernelspec": {
   "display_name": "Python 3.10.6 ('ChallengeGold': venv)",
   "language": "python",
   "name": "python3"
  },
  "language_info": {
   "codemirror_mode": {
    "name": "ipython",
    "version": 3
   },
   "file_extension": ".py",
   "mimetype": "text/x-python",
   "name": "python",
   "nbconvert_exporter": "python",
   "pygments_lexer": "ipython3",
   "version": "3.10.6"
  },
  "orig_nbformat": 4,
  "vscode": {
   "interpreter": {
    "hash": "1e3e45181a9f6fbb41b0879ba96c8c1c03f26a158f6fbfe007bdb870d7eac9b7"
   }
  }
 },
 "nbformat": 4,
 "nbformat_minor": 2
}
