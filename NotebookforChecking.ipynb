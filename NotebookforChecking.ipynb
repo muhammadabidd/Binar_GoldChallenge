{
 "cells": [
  {
   "cell_type": "code",
   "execution_count": 26,
   "metadata": {},
   "outputs": [
    {
     "name": "stdout",
     "output_type": "stream",
     "text": [
      "('Ayam1234', 'Ayam')\n",
      "('Ayam123', 'Ayam')\n",
      "('Ayam123', 'Ayam')\n",
      "('Bujang &*&h', 'Bujangh')\n",
      "('Selamat Malams@#', 'SelamatMalams')\n",
      "('Bujang Gatot (#(#', 'BujangGatot')\n",
      "('asdkljadkls(*&(*&', 'asdkljadkls')\n",
      "('asdasdkj(*(*(**', 'asdasdkj')\n",
      "('kajsdhakjsdh*&(*&(*&', 'kajsdhakjsdh')\n",
      "('asdasdkj(*(*(**', 'asdasdkj')\n",
      "('kajsdhakjsdh*&(*&(*&', 'kajsdhakjsdh')\n"
     ]
    }
   ],
   "source": [
    "import sqlite3\n",
    "\n",
    "conn = sqlite3.connect('text_processing.db')\n",
    "cursor = conn.execute(\"SELECT * FROM data;\")\n",
    "\n",
    "for row in cursor:\n",
    "  print(row)\n",
    "\n",
    "\n"
   ]
  },
  {
   "cell_type": "code",
   "execution_count": 27,
   "metadata": {},
   "outputs": [
    {
     "name": "stdout",
     "output_type": "stream",
     "text": [
      "('Ayam1234', 'Ayam')\n",
      "('Ayam123', 'Ayam')\n",
      "('Ayam123', 'Ayam')\n",
      "('Bujang &*&h', 'Bujangh')\n",
      "('Selamat Malams@#', 'SelamatMalams')\n",
      "('Bujang Gatot (#(#', 'BujangGatot')\n",
      "('asdkljadkls(*&(*&', 'asdkljadkls')\n",
      "('asdasdkj(*(*(**', 'asdasdkj')\n",
      "('kajsdhakjsdh*&(*&(*&', 'kajsdhakjsdh')\n",
      "('asdasdkj(*(*(**', 'asdasdkj')\n",
      "('kajsdhakjsdh*&(*&(*&', 'kajsdhakjsdh')\n",
      "('Ayam123', 'Ayam')\n"
     ]
    }
   ],
   "source": [
    "conn.execute(\"INSERT INTO data(text, text_clean) VALUES ('Ayam123' , 'Ayam')\")\n",
    "\n",
    "cursor = conn.execute(\"SELECT * FROM data;\")\n",
    "for row in cursor:\n",
    "  print(row)"
   ]
  },
  {
   "cell_type": "code",
   "execution_count": 28,
   "metadata": {},
   "outputs": [
    {
     "name": "stdout",
     "output_type": "stream",
     "text": [
      "('Ayam1234', 'Ayam')\n",
      "('Ayam123', 'Ayam')\n",
      "('Ayam123', 'Ayam')\n",
      "('Bujang &*&h', 'Bujangh')\n",
      "('Selamat Malams@#', 'SelamatMalams')\n",
      "('Bujang Gatot (#(#', 'BujangGatot')\n",
      "('asdkljadkls(*&(*&', 'asdkljadkls')\n",
      "('asdasdkj(*(*(**', 'asdasdkj')\n",
      "('kajsdhakjsdh*&(*&(*&', 'kajsdhakjsdh')\n",
      "('asdasdkj(*(*(**', 'asdasdkj')\n",
      "('kajsdhakjsdh*&(*&(*&', 'kajsdhakjsdh')\n",
      "('Ayam123', 'Ayam')\n",
      "('Ayam1234', 'Ayam')\n"
     ]
    }
   ],
   "source": [
    "conn.execute(\"INSERT INTO data(text, text_clean) VALUES ('Ayam1234' , 'Ayam')\")\n",
    "\n",
    "\n",
    "cursor = conn.execute(\"SELECT * FROM data;\")\n",
    "for row in cursor:\n",
    "  print(row)"
   ]
  },
  {
   "cell_type": "code",
   "execution_count": null,
   "metadata": {},
   "outputs": [],
   "source": [
    "cursor = conn.execute(\"SELECT * FROM data;\")\n",
    "for row in cursor:\n",
    "  print(row)\n",
    "\n",
    "conn.commit()"
   ]
  },
  {
   "cell_type": "code",
   "execution_count": null,
   "metadata": {},
   "outputs": [],
   "source": [
    "##Adding Function on \"Upload_csv\" Route\n",
    "\n",
    "import pandas as pd\n",
    "import re\n",
    "\n",
    "data = pd.read_csv('Coba Coba.csv')\n",
    "first_column = data.iloc[:, 0]\n",
    "print(first_column)"
   ]
  },
  {
   "cell_type": "code",
   "execution_count": null,
   "metadata": {},
   "outputs": [],
   "source": [
    "for teks in first_column:\n",
    "    file_clean = re.sub(r'[^a-zA-Z0-9]','',teks)\n",
    "    conn.execute(\"INSERT INTO data(text, text_clean) VALUES ('\"+ teks +\"','\"+ file_clean +\"')\")\n",
    "    \n",
    "    print(file_clean)"
   ]
  },
  {
   "cell_type": "code",
   "execution_count": null,
   "metadata": {},
   "outputs": [],
   "source": [
    "for teks in first_column:\n",
    "    file_clean = re.sub(r'[^a-zA-Z0-9]','',teks)\n",
    "    conn.execute(\"INSERT INTO data(text, text_clean) VALUES ('\"+ teks +\"','\"+ file_clean +\"')\")\n",
    "    \n",
    "    print(file_clean)"
   ]
  },
  {
   "cell_type": "code",
   "execution_count": null,
   "metadata": {},
   "outputs": [],
   "source": [
    "conn = sqlite3.connect('text_processing.db')\n",
    "cursor = conn.execute(\"SELECT * FROM data;\")\n",
    "for row in cursor:\n",
    "  print(row)"
   ]
  },
  {
   "cell_type": "code",
   "execution_count": 34,
   "metadata": {},
   "outputs": [
    {
     "name": "stdout",
     "output_type": "stream",
     "text": [
      "'input/coba_coba.csv'\n"
     ]
    }
   ],
   "source": [
    "filename = 'coba_coba.csv'\n",
    "filepath = 'Input/' + str(filename)\n",
    "print(\"'\" + filepath + \"'\")"
   ]
  },
  {
   "cell_type": "code",
   "execution_count": 36,
   "metadata": {},
   "outputs": [
    {
     "name": "stdout",
     "output_type": "stream",
     "text": [
      "asdasdkj\n",
      "kajsdhakjsdh\n"
     ]
    }
   ],
   "source": [
    "data = pd.read_csv('Input\\Coba_Coba.csv')\n",
    "        \n",
    "first_column = data.iloc[:, 0]\n",
    "\n",
    "for teks in first_column:\n",
    "                file_clean = re.sub(r'[^a-zA-Z0-9]','',teks)\n",
    "                conn.execute(\"INSERT INTO data(text, text_clean) VALUES ('\"+ teks +\"','\"+ file_clean +\"')\")\n",
    "        \n",
    "                print(file_clean)\n",
    "\n",
    "conn.commit()\n",
    "conn.close()"
   ]
  },
  {
   "cell_type": "code",
   "execution_count": null,
   "metadata": {},
   "outputs": [],
   "source": []
  }
 ],
 "metadata": {
  "kernelspec": {
   "display_name": "Python 3.10.6 ('ChallengeGold': venv)",
   "language": "python",
   "name": "python3"
  },
  "language_info": {
   "codemirror_mode": {
    "name": "ipython",
    "version": 3
   },
   "file_extension": ".py",
   "mimetype": "text/x-python",
   "name": "python",
   "nbconvert_exporter": "python",
   "pygments_lexer": "ipython3",
   "version": "3.10.6"
  },
  "orig_nbformat": 4,
  "vscode": {
   "interpreter": {
    "hash": "1e3e45181a9f6fbb41b0879ba96c8c1c03f26a158f6fbfe007bdb870d7eac9b7"
   }
  }
 },
 "nbformat": 4,
 "nbformat_minor": 2
}
