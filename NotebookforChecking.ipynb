{
 "cells": [
  {
   "cell_type": "code",
   "execution_count": 78,
   "metadata": {},
   "outputs": [
    {
     "name": "stdout",
     "output_type": "stream",
     "text": [
      "('Ayam123', 'Ayam')\n",
      "('Ayam123', 'Ayam')\n",
      "('Ayam123', 'Ayam')\n",
      "('Ayam1234', 'Ayam')\n"
     ]
    }
   ],
   "source": [
    "import sqlite3\n",
    "\n",
    "#Cek database\n",
    "conn = sqlite3.connect('text_processing.db')\n",
    "\n",
    "cursor = conn.execute(\"SELECT * FROM data;\")\n",
    "\n",
    "for row in cursor:\n",
    "  print(row)\n",
    "\n",
    "conn.commit()\n",
    "\n",
    "\n"
   ]
  },
  {
   "cell_type": "code",
   "execution_count": 83,
   "metadata": {},
   "outputs": [
    {
     "name": "stdout",
     "output_type": "stream",
     "text": [
      "('Ayam1234', 'Ayam')\n",
      "('Ayam123', 'Ayam')\n"
     ]
    }
   ],
   "source": [
    "conn.execute(\"INSERT INTO data(text, text_clean) VALUES ('Ayam123' , 'Ayam')\")\n",
    "\n",
    "cursor = conn.execute(\"SELECT * FROM data;\")\n",
    "for row in cursor:\n",
    "  print(row)\n",
    "\n",
    "conn.commit()\n"
   ]
  },
  {
   "cell_type": "code",
   "execution_count": 82,
   "metadata": {},
   "outputs": [
    {
     "name": "stdout",
     "output_type": "stream",
     "text": [
      "('Ayam1234', 'Ayam')\n"
     ]
    }
   ],
   "source": [
    "conn.execute(\"INSERT INTO data(text, text_clean) VALUES ('Ayam1234' , 'Ayam')\")\n",
    "\n",
    "cursor = conn.execute(\"SELECT * FROM data;\")\n",
    "for row in cursor:\n",
    "  print(row)\n",
    "\n",
    "conn.commit()"
   ]
  },
  {
   "cell_type": "code",
   "execution_count": 91,
   "metadata": {},
   "outputs": [
    {
     "name": "stdout",
     "output_type": "stream",
     "text": [
      "('Ayam1234', 'Ayam')\n",
      "('Ayam123', 'Ayam')\n",
      "('asdasdkj(*(*(**', 'asdasdkj')\n",
      "('kajsdhakjsdh*&(*&(*&', 'kajsdhakjsdh')\n",
      "('nahini bedlagi ni!@!#@#!@', 'nahinibedlagini')\n",
      "('Ayam1234', 'Ayam')\n"
     ]
    }
   ],
   "source": [
    "#Cek database\n",
    "\n",
    "cursor = conn.execute(\"SELECT * FROM data;\")\n",
    "for row in cursor:\n",
    "  print(row)\n",
    "\n",
    "conn.commit()"
   ]
  },
  {
   "cell_type": "code",
   "execution_count": 81,
   "metadata": {},
   "outputs": [],
   "source": [
    "#Delete Database\n",
    "\n",
    "\n",
    "cursor = conn.execute(\"DELETE FROM data;\")\n",
    "cursor = conn.execute(\"SELECT * FROM data;\")\n",
    "\n",
    "for row in cursor:\n",
    "  print(row)\n",
    "\n",
    "conn.commit()"
   ]
  },
  {
   "cell_type": "code",
   "execution_count": 26,
   "metadata": {},
   "outputs": [
    {
     "name": "stdout",
     "output_type": "stream",
     "text": [
      "0    - disaat semua cowok berusaha melacak perhatia...\n",
      "1    RT USER: USER siapa yang telat ngasih tau elu?...\n",
      "2    41. Kadang aku berfikir, kenapa aku tetap perc...\n",
      "3    USER USER AKU ITU AKU\\n\\nKU TAU MATAMU SIPIT T...\n",
      "4    USER USER Kaum cebong kapir udah keliatan dong...\n",
      "Name: Tweet, dtype: object\n"
     ]
    }
   ],
   "source": [
    "##Adding Function on \"Upload_csv\" Route\n",
    "\n",
    "import pandas as pd\n",
    "import re\n",
    "\n",
    "data = pd.read_csv('Input/data_2.csv', encoding='latin-1')\n",
    "first_column = data.iloc[:, 0]\n",
    "print(first_column.head())"
   ]
  },
  {
   "cell_type": "code",
   "execution_count": null,
   "metadata": {},
   "outputs": [],
   "source": [
    "for teks in first_column:\n",
    "    file_clean = re.sub(r'[^a-zA-Z0-9]','',teks)\n",
    "    conn.execute(\"INSERT INTO data(text, text_clean) VALUES ('\"+ teks +\"','\"+ file_clean +\"')\")\n",
    "    \n",
    "    print(file_clean)"
   ]
  },
  {
   "cell_type": "code",
   "execution_count": null,
   "metadata": {},
   "outputs": [],
   "source": [
    "for teks in first_column:\n",
    "    file_clean = re.sub(r'[^a-zA-Z0-9]','',teks)\n",
    "    conn.execute(\"INSERT INTO data(text, text_clean) VALUES ('\"+ teks +\"','\"+ file_clean +\"')\")\n",
    "    \n",
    "    print(file_clean)"
   ]
  },
  {
   "cell_type": "code",
   "execution_count": 37,
   "metadata": {},
   "outputs": [
    {
     "name": "stdout",
     "output_type": "stream",
     "text": [
      "'Input/coba_coba.csv'\n"
     ]
    }
   ],
   "source": [
    "filename = 'coba_coba.csv'\n",
    "filepath = 'Input/' + str(filename)\n",
    "print(\"'\" + filepath + \"'\")"
   ]
  },
  {
   "cell_type": "code",
   "execution_count": 88,
   "metadata": {},
   "outputs": [
    {
     "name": "stdout",
     "output_type": "stream",
     "text": [
      "asdasdkj\n",
      "kajsdhakjsdh\n",
      "nahinibedlagini\n"
     ]
    }
   ],
   "source": [
    "data = pd.read_csv('Coba Coba.csv', encoding='latin-1')\n",
    "        \n",
    "first_column = data.iloc[:, 0]\n",
    "\n",
    "for teks in first_column:\n",
    "                file_clean = re.sub(r'[^a-zA-Z0-9]','',teks)\n",
    "                conn.execute(\"INSERT INTO data(text, text_clean) VALUES ('\"+ teks +\"','\"+ file_clean +\"')\")\n",
    "        \n",
    "                print(file_clean)\n",
    "\n",
    "conn.commit()\n"
   ]
  },
  {
   "cell_type": "code",
   "execution_count": 100,
   "metadata": {},
   "outputs": [],
   "source": [
    "##Cara Lain connect to database without even worrying to forget closing it\n",
    "\n",
    "conn = sqlite3.connect('text_processing.db')\n",
    "c = conn.cursor()\n",
    "with conn:\n",
    "    c.execute(\"INSERT INTO data(text, text_clean) VALUES ('Ayam1234' , 'Ayam')\")\n",
    "    conn.commit()\n",
    "       \n"
   ]
  },
  {
   "cell_type": "code",
   "execution_count": 102,
   "metadata": {},
   "outputs": [
    {
     "name": "stdout",
     "output_type": "stream",
     "text": [
      "('Ayam1234', 'Ayam')\n",
      "('Ayam123', 'Ayam')\n",
      "('asdasdkj(*(*(**', 'asdasdkj')\n",
      "('kajsdhakjsdh*&(*&(*&', 'kajsdhakjsdh')\n",
      "('nahini bedlagi ni!@!#@#!@', 'nahinibedlagini')\n",
      "('Ayam1234', 'Ayam')\n",
      "('Ayam1234', 'Ayam')\n",
      "('Ayam1234', 'Ayam')\n",
      "('Ayam1234', 'Ayam')\n",
      "('Ayam1234', 'Ayam')\n",
      "('Ayam1234', 'Ayam')\n",
      "('asdasdkj(*(*(**', 'asdasdkj')\n",
      "('kajsdhakjsdh*&(*&(*&', 'kajsdhakjsdh')\n",
      "('nahini bedlagi ni!@!#@#!@', 'nahinibedlagini')\n",
      "('asdasdkj(*(*(**', 'asdasdkj')\n",
      "('kajsdhakjsdh*&(*&(*&', 'kajsdhakjsdh')\n",
      "('nahini bedlagi ni!@!#@#!@', 'nahinibedlagini')\n",
      "('yangkedua beda (*(*(*', 'yangkeduabeda')\n"
     ]
    }
   ],
   "source": [
    "#Cek database\n",
    "\n",
    "cursor = conn.execute(\"SELECT * FROM data;\")\n",
    "for row in cursor:\n",
    "  print(row)\n",
    "\n",
    "conn.commit()"
   ]
  }
 ],
 "metadata": {
  "kernelspec": {
   "display_name": "Python 3.10.6 ('ChallengeGold': venv)",
   "language": "python",
   "name": "python3"
  },
  "language_info": {
   "codemirror_mode": {
    "name": "ipython",
    "version": 3
   },
   "file_extension": ".py",
   "mimetype": "text/x-python",
   "name": "python",
   "nbconvert_exporter": "python",
   "pygments_lexer": "ipython3",
   "version": "3.10.6"
  },
  "orig_nbformat": 4,
  "vscode": {
   "interpreter": {
    "hash": "1e3e45181a9f6fbb41b0879ba96c8c1c03f26a158f6fbfe007bdb870d7eac9b7"
   }
  }
 },
 "nbformat": 4,
 "nbformat_minor": 2
}
