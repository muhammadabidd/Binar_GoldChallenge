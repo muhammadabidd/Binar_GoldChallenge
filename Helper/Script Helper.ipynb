{
 "cells": [
  {
   "cell_type": "code",
   "execution_count": 59,
   "metadata": {},
   "outputs": [],
   "source": [
    "import re\n",
    "import pandas as pd\n"
   ]
  },
  {
   "cell_type": "code",
   "execution_count": 60,
   "metadata": {},
   "outputs": [
    {
     "name": "stdout",
     "output_type": "stream",
     "text": [
      "0        - disaat semua cowok berusaha melacak perhatia...\n",
      "1        RT USER: USER siapa yang telat ngasih tau elu?...\n",
      "2        41. Kadang aku berfikir, kenapa aku tetap perc...\n",
      "3        USER USER AKU ITU AKU\\n\\nKU TAU MATAMU SIPIT T...\n",
      "4        USER USER Kaum cebong kapir udah keliatan dong...\n",
      "                               ...                        \n",
      "13164    USER jangan asal ngomong ndasmu. congor lu yg ...\n",
      "13165                         USER Kasur mana enak kunyuk'\n",
      "13166    USER Hati hati bisu :( .g\\n\\nlagi bosan huft \\...\n",
      "13167    USER USER USER USER Bom yang real mudah terdet...\n",
      "13168    USER Mana situ ngasih(\": itu cuma foto ya kuti...\n",
      "Name: Tweet, Length: 13169, dtype: object\n"
     ]
    }
   ],
   "source": [
    "data = pd.read_csv(\"Data_for_Testing.csv\", encoding='latin-1')\n",
    "first_column_pre_process = data.iloc[:, 0]\n",
    "\n",
    "print(first_column_pre_process)"
   ]
  },
  {
   "cell_type": "code",
   "execution_count": 61,
   "metadata": {},
   "outputs": [
    {
     "data": {
      "text/html": [
       "<div>\n",
       "<style scoped>\n",
       "    .dataframe tbody tr th:only-of-type {\n",
       "        vertical-align: middle;\n",
       "    }\n",
       "\n",
       "    .dataframe tbody tr th {\n",
       "        vertical-align: top;\n",
       "    }\n",
       "\n",
       "    .dataframe thead th {\n",
       "        text-align: right;\n",
       "    }\n",
       "</style>\n",
       "<table border=\"1\" class=\"dataframe\">\n",
       "  <thead>\n",
       "    <tr style=\"text-align: right;\">\n",
       "      <th></th>\n",
       "      <th>Processed Text</th>\n",
       "    </tr>\n",
       "  </thead>\n",
       "  <tbody>\n",
       "    <tr>\n",
       "      <th>0</th>\n",
       "      <td>- disaat semua cowok berusaha melacak perhatia...</td>\n",
       "    </tr>\n",
       "    <tr>\n",
       "      <th>1</th>\n",
       "      <td>rt user: user siapa yang telat ngasih tau elu?...</td>\n",
       "    </tr>\n",
       "    <tr>\n",
       "      <th>2</th>\n",
       "      <td>41. kadang aku berfikir, kenapa aku tetap perc...</td>\n",
       "    </tr>\n",
       "    <tr>\n",
       "      <th>3</th>\n",
       "      <td>user user aku itu aku\\n\\nku tau matamu sipit t...</td>\n",
       "    </tr>\n",
       "    <tr>\n",
       "      <th>4</th>\n",
       "      <td>user user kaum cebong kapir udah keliatan dong...</td>\n",
       "    </tr>\n",
       "    <tr>\n",
       "      <th>...</th>\n",
       "      <td>...</td>\n",
       "    </tr>\n",
       "    <tr>\n",
       "      <th>13164</th>\n",
       "      <td>user jangan asal ngomong ndasmu. congor lu yg ...</td>\n",
       "    </tr>\n",
       "    <tr>\n",
       "      <th>13165</th>\n",
       "      <td>user kasur mana enak kunyuk'</td>\n",
       "    </tr>\n",
       "    <tr>\n",
       "      <th>13166</th>\n",
       "      <td>user hati hati bisu :( .g\\n\\nlagi bosan huft \\...</td>\n",
       "    </tr>\n",
       "    <tr>\n",
       "      <th>13167</th>\n",
       "      <td>user user user user bom yang real mudah terdet...</td>\n",
       "    </tr>\n",
       "    <tr>\n",
       "      <th>13168</th>\n",
       "      <td>user mana situ ngasih(\": itu cuma foto ya kuti...</td>\n",
       "    </tr>\n",
       "  </tbody>\n",
       "</table>\n",
       "<p>13169 rows × 1 columns</p>\n",
       "</div>"
      ],
      "text/plain": [
       "                                          Processed Text\n",
       "0      - disaat semua cowok berusaha melacak perhatia...\n",
       "1      rt user: user siapa yang telat ngasih tau elu?...\n",
       "2      41. kadang aku berfikir, kenapa aku tetap perc...\n",
       "3      user user aku itu aku\\n\\nku tau matamu sipit t...\n",
       "4      user user kaum cebong kapir udah keliatan dong...\n",
       "...                                                  ...\n",
       "13164  user jangan asal ngomong ndasmu. congor lu yg ...\n",
       "13165                       user kasur mana enak kunyuk'\n",
       "13166  user hati hati bisu :( .g\\n\\nlagi bosan huft \\...\n",
       "13167  user user user user bom yang real mudah terdet...\n",
       "13168  user mana situ ngasih(\": itu cuma foto ya kuti...\n",
       "\n",
       "[13169 rows x 1 columns]"
      ]
     },
     "execution_count": 61,
     "metadata": {},
     "output_type": "execute_result"
    }
   ],
   "source": [
    "def lowercase(text):\n",
    "    new_text = text.lower()\n",
    "    return new_text\n",
    "\n",
    "cleaned_tweet = []\n",
    "for text in first_column_pre_process:\n",
    "    cleaned_tweet.append(lowercase(text))\n",
    "\n",
    "    \n",
    "cleaned_tweet = pd.DataFrame(cleaned_tweet, columns = ['Processed Text'])   \n",
    "\n",
    "cleaned_tweet\n"
   ]
  },
  {
   "cell_type": "code",
   "execution_count": 62,
   "metadata": {},
   "outputs": [
    {
     "name": "stdout",
     "output_type": "stream",
     "text": [
      "                                           Cleaned Tweet\n",
      "0      - disaat semua cowok berusaha melacak perhatia...\n",
      "1       : siapa yang telat ngasih tau elu?edan sarap ...\n",
      "2       kadang aku berfikir, kenapa aku tetap percaya...\n",
      "3       aku itu aku ku tau matamu sipit tapi diliat d...\n",
      "4       kaum cebong kapir udah keliatan dongoknya dar...\n",
      "...                                                  ...\n",
      "13164   jangan asal ngomong ndasmu. congor lu yg seka...\n",
      "13165                            kasur mana enak kunyuk'\n",
      "13166         hati hati bisu :( .g lagi bosan huft \\\\\\\\'\n",
      "13167   bom yang real mudah terdeteksi bom yang terku...\n",
      "13168   mana situ ngasih(\": itu cuma foto ya kutil onta'\n",
      "\n",
      "[13169 rows x 1 columns]\n"
     ]
    }
   ],
   "source": [
    "\n",
    "\n",
    "def remove_unnecessary_char(text):\n",
    "    text = re.sub(r'\\\\n',' ', text)\n",
    "    text = re.sub('rt','', text)\n",
    "    text = re.sub('user','', text)\n",
    "    text = re.sub(';','', text)\n",
    "    text = re.sub('((www\\.[^\\s]+)|(https?://[^\\s]+)|(http?://[^\\s]+))',' ',text)\n",
    "    text = re.sub('  +',' ', text)\n",
    "    text = re.sub('\\d+\\.\\s',' ', text)\n",
    "    text = re.sub(r\"x[a-z0-9][a-z0-9]\",'',text)\n",
    "        \n",
    "    return text\n",
    "\n",
    "\n",
    "cleaned_tweet = []\n",
    "for text in first_column_pre_process:\n",
    "    text = lowercase(text)\n",
    "    cleaned_tweet.append(remove_unnecessary_char(text))\n",
    "\n",
    "    \n",
    "cleaned_tweet = pd.DataFrame(cleaned_tweet, columns = ['Cleaned Tweet'])   \n",
    "\n",
    "print(cleaned_tweet)\n",
    "cleaned_tweet.to_csv('output.csv')"
   ]
  },
  {
   "cell_type": "code",
   "execution_count": 63,
   "metadata": {},
   "outputs": [
    {
     "name": "stdout",
     "output_type": "stream",
     "text": [
      "                                           Cleaned Tweet\n",
      "0      disaat semua cowok berusaha melacak perhatian ...\n",
      "1      siapa yang telat ngasih tau elu?edan sarap gue...\n",
      "2      kadang aku berfikir kenapa aku tetap percaya p...\n",
      "3      aku itu aku ku tau matamu sipit tapi diliat da...\n",
      "4      kaum cebong kapir udah keliatan dongoknya dari...\n",
      "...                                                  ...\n",
      "13164  jangan asal ngomong ndasmu congor lu yg sekate...\n",
      "13165                            kasur mana enak kunyuk \n",
      "13166                  hati hati bisu g lagi bosan huft \n",
      "13167  bom yang real mudah terdeteksi bom yang terkub...\n",
      "13168      mana situ ngasih itu cuma foto ya kutil onta \n",
      "\n",
      "[13169 rows x 1 columns]\n"
     ]
    }
   ],
   "source": [
    "def remove_nonaplhanumeric(text):\n",
    "    text = re.sub(r'[^0-9a-zA-Z\\?!]+', ' ', text)\n",
    "    text = re.sub(\"\\s\\s+\" , \" \", text)\n",
    "    text = re.sub('^\\s','', text)\n",
    "    return text\n",
    "\n",
    "cleaned_tweet = []\n",
    "for text in first_column_pre_process:\n",
    "    text = lowercase(text)\n",
    "    text = remove_unnecessary_char(text)\n",
    "    text = remove_nonaplhanumeric(text)\n",
    "    cleaned_tweet.append(text)\n",
    "\n",
    "cleaned_tweet = pd.DataFrame(cleaned_tweet, columns = ['Cleaned Tweet'])   \n",
    "\n",
    "print(cleaned_tweet)\n",
    "cleaned_tweet.to_csv('output.csv')"
   ]
  },
  {
   "cell_type": "code",
   "execution_count": 64,
   "metadata": {},
   "outputs": [
    {
     "name": "stdout",
     "output_type": "stream",
     "text": [
      "                                           Cleaned Tweet\n",
      "0      disaat semua cowok berusaha melacak perhatian ...\n",
      "1      siapa yang telat ngasih tau elu?edan sarap gue...\n",
      "2      kadang aku berfikir kenapa aku tetap percaya p...\n",
      "3      aku itu aku ku tau matamu sipit tapi diliat da...\n",
      "4      kaum cebong kapir udah keliatan dongoknya dari...\n",
      "...                                                  ...\n",
      "13164  jangan asal ngomong ndasmu congor lu yg sekate...\n",
      "13165                            kasur mana enak kunyuk \n",
      "13166                  hati hati bisu g lagi bosan huft \n",
      "13167  bom yang real mudah terdeteksi bom yang terkub...\n",
      "13168      mana situ ngasih itu cuma foto ya kutil onta \n",
      "\n",
      "[13169 rows x 1 columns]\n"
     ]
    }
   ],
   "source": [
    "def remove_duplicateexclamation(text):\n",
    "    text = re.sub(r'[!]{2,}', '!', text)\n",
    "    text = re.sub(r'[?]{2,}', '?', text)\n",
    "    return text\n",
    "\n",
    "cleaned_tweet = []\n",
    "for text in first_column_pre_process:\n",
    "    text = lowercase(text)\n",
    "    text = remove_unnecessary_char(text)\n",
    "    text = remove_nonaplhanumeric(text)\n",
    "    text = remove_duplicateexclamation(text)\n",
    "    cleaned_tweet.append(text)\n",
    "\n",
    "cleaned_tweet = pd.DataFrame(cleaned_tweet, columns = ['Cleaned Tweet'])   \n",
    "\n",
    "print(cleaned_tweet)\n",
    "cleaned_tweet.to_csv('output.csv')"
   ]
  },
  {
   "cell_type": "code",
   "execution_count": 1,
   "metadata": {},
   "outputs": [
    {
     "name": "stdout",
     "output_type": "stream",
     "text": [
      "nama saya adalah Abid !!! 898*(*\n"
     ]
    },
    {
     "ename": "NameError",
     "evalue": "name 'first_column_pre_process' is not defined",
     "output_type": "error",
     "traceback": [
      "\u001b[1;31m---------------------------------------------------------------------------\u001b[0m",
      "\u001b[1;31mNameError\u001b[0m                                 Traceback (most recent call last)",
      "Cell \u001b[1;32mIn [1], line 5\u001b[0m\n\u001b[0;32m      1\u001b[0m \u001b[38;5;28;01mfrom\u001b[39;00m \u001b[38;5;21;01mScript\u001b[39;00m \u001b[38;5;28;01mimport\u001b[39;00m process_word\n\u001b[0;32m      4\u001b[0m cleaned_tweet \u001b[38;5;241m=\u001b[39m []\n\u001b[1;32m----> 5\u001b[0m \u001b[38;5;28;01mfor\u001b[39;00m text \u001b[38;5;129;01min\u001b[39;00m first_column_pre_process:\n\u001b[0;32m      6\u001b[0m     text \u001b[38;5;241m=\u001b[39m process_word(text)\n\u001b[0;32m      8\u001b[0m cleaned_tweet \u001b[38;5;241m=\u001b[39m pd\u001b[38;5;241m.\u001b[39mDataFrame(cleaned_tweet, columns \u001b[38;5;241m=\u001b[39m [\u001b[38;5;124m'\u001b[39m\u001b[38;5;124mCleaned Tweet\u001b[39m\u001b[38;5;124m'\u001b[39m])   \n",
      "\u001b[1;31mNameError\u001b[0m: name 'first_column_pre_process' is not defined"
     ]
    }
   ],
   "source": [
    "\n",
    "from Script import process_word\n",
    "\n",
    "\n",
    "cleaned_tweet = []\n",
    "for text in first_column_pre_process:\n",
    "    text = process_word(text)\n",
    "\n",
    "cleaned_tweet = pd.DataFrame(cleaned_tweet, columns = ['Cleaned Tweet'])   \n",
    "\n",
    "print(cleaned_tweet)\n",
    "cleaned_tweet.to_csv('output.csv')"
   ]
  },
  {
   "cell_type": "code",
   "execution_count": 79,
   "metadata": {},
   "outputs": [
    {
     "ename": "error",
     "evalue": "unknown extension ?  at position 1",
     "output_type": "error",
     "traceback": [
      "\u001b[1;31m---------------------------------------------------------------------------\u001b[0m",
      "\u001b[1;31merror\u001b[0m                                     Traceback (most recent call last)",
      "Cell \u001b[1;32mIn [79], line 3\u001b[0m\n\u001b[0;32m      1\u001b[0m \u001b[38;5;28;01mimport\u001b[39;00m \u001b[38;5;21;01mScript\u001b[39;00m\n\u001b[1;32m----> 3\u001b[0m process_word(\u001b[38;5;124m'\u001b[39m\u001b[38;5;124msasdasd234234\u001b[39m\u001b[38;5;124m'\u001b[39m)\n\u001b[0;32m      5\u001b[0m \u001b[38;5;28mprint\u001b[39m(text)\n",
      "File \u001b[1;32mc:\\Users\\muham\\OneDrive\\Documents\\GitHub\\Binar_Gold_Challenge\\Helper\\Script.py:49\u001b[0m, in \u001b[0;36mprocess_word\u001b[1;34m(text)\u001b[0m\n\u001b[0;32m     47\u001b[0m text \u001b[39m=\u001b[39m remove_unnecessary_char(text)\n\u001b[0;32m     48\u001b[0m text \u001b[39m=\u001b[39m remove_nonaplhanumeric(text)\n\u001b[1;32m---> 49\u001b[0m text \u001b[39m=\u001b[39m remove_duplicateexclamation(text)\n\u001b[0;32m     50\u001b[0m text \u001b[39m=\u001b[39m normalize_alay(text)\n\u001b[0;32m     51\u001b[0m \u001b[39mreturn\u001b[39;00m text\n",
      "File \u001b[1;32mc:\\Users\\muham\\OneDrive\\Documents\\GitHub\\Binar_Gold_Challenge\\Helper\\Script.py:32\u001b[0m, in \u001b[0;36mremove_duplicateexclamation\u001b[1;34m(text)\u001b[0m\n\u001b[0;32m     30\u001b[0m text \u001b[39m=\u001b[39m re\u001b[39m.\u001b[39msub(\u001b[39mr\u001b[39m\u001b[39m'\u001b[39m\u001b[39m[?]\u001b[39m\u001b[39m{\u001b[39m\u001b[39m2,}\u001b[39m\u001b[39m'\u001b[39m, \u001b[39m'\u001b[39m\u001b[39m?\u001b[39m\u001b[39m'\u001b[39m, text)\n\u001b[0;32m     31\u001b[0m text \u001b[39m=\u001b[39m re\u001b[39m.\u001b[39msub(\u001b[39mr\u001b[39m\u001b[39m'\u001b[39m\u001b[39m(! )\u001b[39m\u001b[39m{\u001b[39m\u001b[39m2,}\u001b[39m\u001b[39m'\u001b[39m, \u001b[39m'\u001b[39m\u001b[39m?\u001b[39m\u001b[39m'\u001b[39m, text)\n\u001b[1;32m---> 32\u001b[0m text \u001b[39m=\u001b[39m re\u001b[39m.\u001b[39;49msub(\u001b[39mr\u001b[39;49m\u001b[39m'\u001b[39;49m\u001b[39m(? )\u001b[39;49m\u001b[39m{\u001b[39;49m\u001b[39m2,}\u001b[39;49m\u001b[39m'\u001b[39;49m, \u001b[39m'\u001b[39;49m\u001b[39m?\u001b[39;49m\u001b[39m'\u001b[39;49m, text)\n\u001b[0;32m     33\u001b[0m \u001b[39mreturn\u001b[39;00m text\n",
      "File \u001b[1;32m~\\AppData\\Local\\Programs\\Python\\Python310\\lib\\re.py:209\u001b[0m, in \u001b[0;36msub\u001b[1;34m(pattern, repl, string, count, flags)\u001b[0m\n\u001b[0;32m    202\u001b[0m \u001b[39mdef\u001b[39;00m \u001b[39msub\u001b[39m(pattern, repl, string, count\u001b[39m=\u001b[39m\u001b[39m0\u001b[39m, flags\u001b[39m=\u001b[39m\u001b[39m0\u001b[39m):\n\u001b[0;32m    203\u001b[0m     \u001b[39m\"\"\"Return the string obtained by replacing the leftmost\u001b[39;00m\n\u001b[0;32m    204\u001b[0m \u001b[39m    non-overlapping occurrences of the pattern in string by the\u001b[39;00m\n\u001b[0;32m    205\u001b[0m \u001b[39m    replacement repl.  repl can be either a string or a callable;\u001b[39;00m\n\u001b[0;32m    206\u001b[0m \u001b[39m    if a string, backslash escapes in it are processed.  If it is\u001b[39;00m\n\u001b[0;32m    207\u001b[0m \u001b[39m    a callable, it's passed the Match object and must return\u001b[39;00m\n\u001b[0;32m    208\u001b[0m \u001b[39m    a replacement string to be used.\"\"\"\u001b[39;00m\n\u001b[1;32m--> 209\u001b[0m     \u001b[39mreturn\u001b[39;00m _compile(pattern, flags)\u001b[39m.\u001b[39msub(repl, string, count)\n",
      "File \u001b[1;32m~\\AppData\\Local\\Programs\\Python\\Python310\\lib\\re.py:303\u001b[0m, in \u001b[0;36m_compile\u001b[1;34m(pattern, flags)\u001b[0m\n\u001b[0;32m    301\u001b[0m \u001b[39mif\u001b[39;00m \u001b[39mnot\u001b[39;00m sre_compile\u001b[39m.\u001b[39misstring(pattern):\n\u001b[0;32m    302\u001b[0m     \u001b[39mraise\u001b[39;00m \u001b[39mTypeError\u001b[39;00m(\u001b[39m\"\u001b[39m\u001b[39mfirst argument must be string or compiled pattern\u001b[39m\u001b[39m\"\u001b[39m)\n\u001b[1;32m--> 303\u001b[0m p \u001b[39m=\u001b[39m sre_compile\u001b[39m.\u001b[39;49mcompile(pattern, flags)\n\u001b[0;32m    304\u001b[0m \u001b[39mif\u001b[39;00m \u001b[39mnot\u001b[39;00m (flags \u001b[39m&\u001b[39m DEBUG):\n\u001b[0;32m    305\u001b[0m     \u001b[39mif\u001b[39;00m \u001b[39mlen\u001b[39m(_cache) \u001b[39m>\u001b[39m\u001b[39m=\u001b[39m _MAXCACHE:\n\u001b[0;32m    306\u001b[0m         \u001b[39m# Drop the oldest item\u001b[39;00m\n",
      "File \u001b[1;32m~\\AppData\\Local\\Programs\\Python\\Python310\\lib\\sre_compile.py:788\u001b[0m, in \u001b[0;36mcompile\u001b[1;34m(p, flags)\u001b[0m\n\u001b[0;32m    786\u001b[0m \u001b[39mif\u001b[39;00m isstring(p):\n\u001b[0;32m    787\u001b[0m     pattern \u001b[39m=\u001b[39m p\n\u001b[1;32m--> 788\u001b[0m     p \u001b[39m=\u001b[39m sre_parse\u001b[39m.\u001b[39;49mparse(p, flags)\n\u001b[0;32m    789\u001b[0m \u001b[39melse\u001b[39;00m:\n\u001b[0;32m    790\u001b[0m     pattern \u001b[39m=\u001b[39m \u001b[39mNone\u001b[39;00m\n",
      "File \u001b[1;32m~\\AppData\\Local\\Programs\\Python\\Python310\\lib\\sre_parse.py:955\u001b[0m, in \u001b[0;36mparse\u001b[1;34m(str, flags, state)\u001b[0m\n\u001b[0;32m    952\u001b[0m state\u001b[39m.\u001b[39mstr \u001b[39m=\u001b[39m \u001b[39mstr\u001b[39m\n\u001b[0;32m    954\u001b[0m \u001b[39mtry\u001b[39;00m:\n\u001b[1;32m--> 955\u001b[0m     p \u001b[39m=\u001b[39m _parse_sub(source, state, flags \u001b[39m&\u001b[39;49m SRE_FLAG_VERBOSE, \u001b[39m0\u001b[39;49m)\n\u001b[0;32m    956\u001b[0m \u001b[39mexcept\u001b[39;00m Verbose:\n\u001b[0;32m    957\u001b[0m     \u001b[39m# the VERBOSE flag was switched on inside the pattern.  to be\u001b[39;00m\n\u001b[0;32m    958\u001b[0m     \u001b[39m# on the safe side, we'll parse the whole thing again...\u001b[39;00m\n\u001b[0;32m    959\u001b[0m     state \u001b[39m=\u001b[39m State()\n",
      "File \u001b[1;32m~\\AppData\\Local\\Programs\\Python\\Python310\\lib\\sre_parse.py:444\u001b[0m, in \u001b[0;36m_parse_sub\u001b[1;34m(source, state, verbose, nested)\u001b[0m\n\u001b[0;32m    442\u001b[0m start \u001b[39m=\u001b[39m source\u001b[39m.\u001b[39mtell()\n\u001b[0;32m    443\u001b[0m \u001b[39mwhile\u001b[39;00m \u001b[39mTrue\u001b[39;00m:\n\u001b[1;32m--> 444\u001b[0m     itemsappend(_parse(source, state, verbose, nested \u001b[39m+\u001b[39;49m \u001b[39m1\u001b[39;49m,\n\u001b[0;32m    445\u001b[0m                        \u001b[39mnot\u001b[39;49;00m nested \u001b[39mand\u001b[39;49;00m \u001b[39mnot\u001b[39;49;00m items))\n\u001b[0;32m    446\u001b[0m     \u001b[39mif\u001b[39;00m \u001b[39mnot\u001b[39;00m sourcematch(\u001b[39m\"\u001b[39m\u001b[39m|\u001b[39m\u001b[39m\"\u001b[39m):\n\u001b[0;32m    447\u001b[0m         \u001b[39mbreak\u001b[39;00m\n",
      "File \u001b[1;32m~\\AppData\\Local\\Programs\\Python\\Python310\\lib\\sre_parse.py:830\u001b[0m, in \u001b[0;36m_parse\u001b[1;34m(source, state, verbose, nested, first)\u001b[0m\n\u001b[0;32m    828\u001b[0m         group \u001b[39m=\u001b[39m \u001b[39mNone\u001b[39;00m\n\u001b[0;32m    829\u001b[0m     \u001b[39melse\u001b[39;00m:\n\u001b[1;32m--> 830\u001b[0m         \u001b[39mraise\u001b[39;00m source\u001b[39m.\u001b[39merror(\u001b[39m\"\u001b[39m\u001b[39munknown extension ?\u001b[39m\u001b[39m\"\u001b[39m \u001b[39m+\u001b[39m char,\n\u001b[0;32m    831\u001b[0m                            \u001b[39mlen\u001b[39m(char) \u001b[39m+\u001b[39m \u001b[39m1\u001b[39m)\n\u001b[0;32m    833\u001b[0m \u001b[39m# parse group contents\u001b[39;00m\n\u001b[0;32m    834\u001b[0m \u001b[39mif\u001b[39;00m group \u001b[39mis\u001b[39;00m \u001b[39mnot\u001b[39;00m \u001b[39mNone\u001b[39;00m:\n",
      "\u001b[1;31merror\u001b[0m: unknown extension ?  at position 1"
     ]
    }
   ],
   "source": [
    "import Script\n",
    "\n",
    "process_word('sasdasd234234')\n",
    "\n",
    "print(text)\n"
   ]
  },
  {
   "cell_type": "code",
   "execution_count": null,
   "metadata": {},
   "outputs": [],
   "source": []
  }
 ],
 "metadata": {
  "kernelspec": {
   "display_name": "Python 3.10.6 ('ChallengeGold': venv)",
   "language": "python",
   "name": "python3"
  },
  "language_info": {
   "codemirror_mode": {
    "name": "ipython",
    "version": 3
   },
   "file_extension": ".py",
   "mimetype": "text/x-python",
   "name": "python",
   "nbconvert_exporter": "python",
   "pygments_lexer": "ipython3",
   "version": "3.10.6"
  },
  "orig_nbformat": 4,
  "vscode": {
   "interpreter": {
    "hash": "1e3e45181a9f6fbb41b0879ba96c8c1c03f26a158f6fbfe007bdb870d7eac9b7"
   }
  }
 },
 "nbformat": 4,
 "nbformat_minor": 2
}
